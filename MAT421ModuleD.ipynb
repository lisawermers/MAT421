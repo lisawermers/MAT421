{
  "nbformat": 4,
  "nbformat_minor": 0,
  "metadata": {
    "colab": {
      "provenance": [],
      "authorship_tag": "ABX9TyM+jZuL6y+jLWYELFHr1WBv",
      "include_colab_link": true
    },
    "kernelspec": {
      "name": "python3",
      "display_name": "Python 3"
    },
    "language_info": {
      "name": "python"
    }
  },
  "cells": [
    {
      "cell_type": "markdown",
      "metadata": {
        "id": "view-in-github",
        "colab_type": "text"
      },
      "source": [
        "<a href=\"https://colab.research.google.com/github/lisawermers/MAT421/blob/main/MAT421ModuleD.ipynb\" target=\"_parent\"><img src=\"https://colab.research.google.com/assets/colab-badge.svg\" alt=\"Open In Colab\"/></a>"
      ]
    },
    {
      "cell_type": "markdown",
      "source": [
        "#1.1 Introduction\n",
        "**Sets:** Collection of objects denoted by: {}\n",
        "\n",
        "**Union:** A U B - The set containing *all* elements of A and B\n",
        "\n",
        "**Intersecttion:** A n B - The set containing all elements thats belong to *both* A and B\n",
        "\n",
        "**Natural Numbers:** N = {1,2,3,4,..}\n",
        "\n",
        "**Whole Numbers:** W = N U {0}\n",
        "\n",
        "**Integers:** Z = W U {-1,-2,-3,....}\n",
        "\n",
        "**Rational Numbers:** Q = { p/q | p ∊ Z , q ∊ Z \\ {0}}\n",
        "\n",
        "**Irrational Numbers:** I = the set of real numbers that can't be expressed as a fraction of integers\n",
        "\n",
        "**Real Numbers:** (the union of all rational and irrational numbers) R = Q U I\n",
        "\n",
        "**Complex Numbers:** C = {a + bi | a, b ∊ R, i = sqrt(-1) }"
      ],
      "metadata": {
        "id": "RuoaBrKNzEfM"
      }
    },
    {
      "cell_type": "markdown",
      "source": [
        "#1.2 Elements of Linear Algebra\n",
        "**Linear Subspace:** A linear subspace of V is a subset U ⊆ V that is closed under vector addition and scalar multiplication. Meaning, for all u1, u2 ∊ U and a ∊ R: u1 + u2 ∊ u and a*u1 ∊ u\n",
        "\n",
        "**Span:** let w1,w2,...,wm ∊ V. The span, denoted span(w1,...,wm), is the set of all linear combinations of wi.\n",
        "\n",
        "Every span is a linear subspace. AKA, let W = span(w1,w2,...,wm). Then W is a linear subspace."
      ],
      "metadata": {
        "id": "lUKJpVb74PFC"
      }
    },
    {
      "cell_type": "code",
      "execution_count": 1,
      "metadata": {
        "colab": {
          "base_uri": "https://localhost:8080/"
        },
        "id": "9FUDudo9_PoR",
        "outputId": "b3d0ff4d-c8b7-4762-87d1-f6a3bca37e3e"
      },
      "outputs": [
        {
          "output_type": "stream",
          "name": "stdout",
          "text": [
            "[[  4   2 -10]]\n"
          ]
        }
      ],
      "source": [
        "import numpy as np\n",
        "x = np.array([[1, 3, 1]])\n",
        "z = np.array([[4, 2, 2]])\n",
        "print(np.cross(x, z))"
      ]
    },
    {
      "cell_type": "markdown",
      "source": [
        "**Column Space:** Let A ∊ R^(nxm) be an nxm matrix with columns a1,a2,...,am ∊ R^n. The column space of A, denoted col(A) is the span of all the columns of A.\n",
        "\n",
        "**Linear Independence:** A list of column vectors u1,u2,...,um is linearly independent if none of them can be written as a linear combination of the other column vectors. \n",
        "\n",
        "**Dimension Theorem:** Let U be a linear subspace of V. Any basis of U has the same number of elements, so all bases of U have the same length and same number of elements. That's denoted dim(U).\n",
        "\n",
        "**Orthonormal:** A list of vectors {u1,...,um} is orthonormal if the u's are pairwise orthogonal and each has a norm = 1 .\n",
        "\n",
        "**Orthogonal Projection:** Let U ⊆ V be a linear subspace with orthonormal basis q1,...,qm. The orthogonal porjection of v ∊ V on U is Pu v = sum(j=1)< v , qj > qj.\n",
        "\n",
        "**Best Approximation Theorem:** Let U ⊆ V be a linear subspace with orthonormal basis q1,...,qm let v ∊ V. For any u ∊ U. ||v-Pu v|| <= ||v-u||.\n",
        "\n",
        "**Pythagorean Theorem:** Let u1 v ∊ V be orthogonal. Then ||u + v||^2 = ||u||^2 + ||v||^2\n",
        "\n",
        "**Cauchy-Schwarz:** For any u1 v ∊ V , |<u,v>| <= ||u|| ||v||\n",
        "\n",
        "**Gram-Schmidt:** Let a1,...,am in R^n be linearly independent. Then there exists an orthonormal basis, q1,...,qm of span(a1,...,am).\n",
        "\n",
        "**Eigenvalues and Eigenvectors:** Let A ∊ R^(dxd) be a square matrix. Then 𝜆 ∊ R is an eigenvalue of A if there exists a non-zero vector x != 0 such that Ax = 𝜆x. Vector x is an eigenvector."
      ],
      "metadata": {
        "id": "lGCxVRh80iKM"
      }
    },
    {
      "cell_type": "code",
      "source": [
        "import numpy as np\n",
        "from numpy.linalg import eig\n",
        "x = np.array([ [1, 2], [4, 6] ])\n",
        "w,v = eig(x)\n",
        "print('E-value:', w)\n",
        "print('E-vector', v)"
      ],
      "metadata": {
        "colab": {
          "base_uri": "https://localhost:8080/"
        },
        "id": "v5xdLwcL0k4C",
        "outputId": "39ed376b-9f17-4a88-b2e4-5c9900fa8baf"
      },
      "execution_count": 2,
      "outputs": [
        {
          "output_type": "stream",
          "name": "stdout",
          "text": [
            "E-value: [-0.27491722  7.27491722]\n",
            "E-vector [[-0.84324302 -0.3036773 ]\n",
            " [ 0.53753252 -0.95277495]]\n"
          ]
        }
      ]
    },
    {
      "cell_type": "markdown",
      "source": [
        "**Diagonal and Similar Matrices:** Let A be similar to a matrix D = diag(𝜆1,...,𝜆d) with distinct diagonal entries, that exists a non-singular matric A such that A = PDP^-1\n",
        "\n",
        "If A is symmetric, then any 2 eigenvectors from different eigenspaces are orthogonal.\n",
        "\n",
        "**The Spectral Theorem of Symmetric Matrices:** A nxn symmetric matrix A has the following properties:\n",
        "\n",
        "- A has n eigenvalyes, counting multiplicities.\n",
        "\n",
        "- If 𝜆 is an eigenvalues of A with multiplicity k, then the eigenspace for x is k-dimensional.\n",
        "\n",
        "- The eigenspaces are mutually orthogonal, in the sense that eigenvectors corresponding to different vaues are orthogonal.\n",
        "\n",
        "- A is orthogonally diagonalizable."
      ],
      "metadata": {
        "id": "Q-U0Why-0nGE"
      }
    },
    {
      "cell_type": "markdown",
      "source": [
        "#1.3 Linear Regression\n",
        "**QR Decomposition:** a useful procedure to solve the linear least square problem using Gram-Schmidt."
      ],
      "metadata": {
        "id": "gAYZWozo21fV"
      }
    },
    {
      "cell_type": "code",
      "source": [
        "import numpy as np\n",
        "from numpy.linalg import qr\n",
        "x = np.array([[0, 2], [2, 3]])\n",
        "\n",
        "Q,R = qr(x)\n",
        "print('Q:', Q)\n",
        "print('R:', R)\n",
        "\n",
        "z = np.dot(Q, R)\n",
        "print('QR:', z)\n",
        "\n",
        "iterations = [1, 20]\n",
        "for i in range(20):\n",
        "    Q,R = qr(x)\n",
        "    x = np.dot(R, Q)\n",
        "    if i+1 in iterations:\n",
        "        print(f'Iteration {i+1}:')\n",
        "        print(x)"
      ],
      "metadata": {
        "colab": {
          "base_uri": "https://localhost:8080/"
        },
        "id": "9Is8hgXy241x",
        "outputId": "580064c6-ce65-4d88-9ca2-70cfcfa9be13"
      },
      "execution_count": 3,
      "outputs": [
        {
          "output_type": "stream",
          "name": "stdout",
          "text": [
            "Q: [[ 0. -1.]\n",
            " [-1.  0.]]\n",
            "R: [[-2. -3.]\n",
            " [ 0. -2.]]\n",
            "QR: [[0. 2.]\n",
            " [2. 3.]]\n",
            "Iteration 1:\n",
            "[[3. 2.]\n",
            " [2. 0.]]\n",
            "Iteration 20:\n",
            "[[ 4.00000000e+00  9.09484250e-12]\n",
            " [ 9.09494702e-12 -1.00000000e+00]]\n"
          ]
        }
      ]
    },
    {
      "cell_type": "markdown",
      "source": [
        "**Normal Equations:** Let A ∊ R^(nxm) be an nxm matrix with linearly independent columns and let b ∊ R^n be a vector. The solution to the least-squares problem min||Ax-b|| satisfies A^T Ax = A^T b which are known as the normal equations.\n",
        "\n",
        "**Least Squares via QR:** Let A ∊ R^(nxm) be an nxm matrix with linearly independent column, let b ∊ R^n be a vector and let A = QR be a QR decomposition of A where Q is a R^(nxm) matrix with Q^T Q = I(mxm) and T is an upper triangle. \\"
      ],
      "metadata": {
        "id": "sIs1Xu6V264W"
      }
    }
  ]
}