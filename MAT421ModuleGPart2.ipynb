{
  "nbformat": 4,
  "nbformat_minor": 0,
  "metadata": {
    "colab": {
      "provenance": [],
      "authorship_tag": "ABX9TyM/t2JfHyOYdTKvDd6oZHkC",
      "include_colab_link": true
    },
    "kernelspec": {
      "name": "python3",
      "display_name": "Python 3"
    },
    "language_info": {
      "name": "python"
    }
  },
  "cells": [
    {
      "cell_type": "markdown",
      "metadata": {
        "id": "view-in-github",
        "colab_type": "text"
      },
      "source": [
        "<a href=\"https://colab.research.google.com/github/lisawermers/MAT421/blob/main/MAT421ModuleGPart2.ipynb\" target=\"_parent\"><img src=\"https://colab.research.google.com/assets/colab-badge.svg\" alt=\"Open In Colab\"/></a>"
      ]
    },
    {
      "cell_type": "markdown",
      "source": [
        "#21.4, 21.5\n",
        "\n",
        "**21.4: Simpson's Rule**\n",
        "\n",
        "Given two consecutive subintervals $[x_{i-1},x_i]$ and $[x_i,x_{i+1}]$, Simpson's Rule approximates the area over them by fitting a quadratic polynomial through the points $(x_{i-1},f(x_{i-1}))$, $(x_i,f(x_i))$, and $(x_{i+1},f(x_{i+1}))$ and then integrates the quadratic exactly. \n",
        "\n",
        "The Simpson's Rule approximation for the integral over this subinterval is represented by: \n",
        "\n",
        "$\\frac{h}{3}(f(x_{i-1})+4f(x_i)+f(x_{i+1}))+O(h^5)$\n",
        "\n",
        "Here's an example of Simpson's Rule being used to evaluate $\\int_0^{\\pi}sin(x)dx$ with 11 evenly spaced grid points over the whole interval. "
      ],
      "metadata": {
        "id": "eGt0GTVx_dTA"
      }
    },
    {
      "cell_type": "code",
      "execution_count": 4,
      "metadata": {
        "colab": {
          "base_uri": "https://localhost:8080/"
        },
        "id": "dnd3HgAj_XUC",
        "outputId": "50e7bf8e-82b8-4938-f1c3-42f16d2a347a"
      },
      "outputs": [
        {
          "output_type": "stream",
          "name": "stdout",
          "text": [
            "2.0001095173150043\n",
            "-0.00010951731500430384\n"
          ]
        }
      ],
      "source": [
        "import numpy as np\n",
        "\n",
        "a = 0 \n",
        "b = np.pi\n",
        "n = 11\n",
        "h = (b - a)/(n - 1)\n",
        "x = np.linspace( a, b, n)\n",
        "f = np.sin(x)\n",
        "I_simp = (h/3) * (f[0] + 2*sum(f[:n-2:2]) + 4*sum(f[1:n-1:2]) + f[n-1])\n",
        "err_simp = 2 - I_simp\n",
        "\n",
        "print(I_simp)\n",
        "print(err_simp)"
      ]
    },
    {
      "cell_type": "markdown",
      "source": [
        "**21.5: Computing Integrals in Python**\n",
        "\n",
        "The scipy.integrate package has a few different function for computing integrals of functions. The *trapz* function takes an array of function values f computed on a numerical grid x as its input arguments. \n",
        "\n",
        "Let's look at an example of it used to evaluate $\\int_0^{\\pi}sin(x)dx$ with 11 evenly spaced grid points over the whole interval. "
      ],
      "metadata": {
        "id": "EmV31hDWCfwN"
      }
    },
    {
      "cell_type": "code",
      "source": [
        "import numpy as np\n",
        "from scipy.integrate import trapz\n",
        "\n",
        "a = 0\n",
        "b = np.pi\n",
        "n = 11\n",
        "h = (b - a) / (n - 1)\n",
        "x = np.linspace(a, b, n)\n",
        "f = np.sin(x)\n",
        "\n",
        "I_trapz = trapz(f,x)\n",
        "I_trap = (h/2)*(f[0] + 2 * sum(f[1:n-1]) + f[n-1])\n",
        "\n",
        "print(I_trapz)\n",
        "print(I_trap)"
      ],
      "metadata": {
        "colab": {
          "base_uri": "https://localhost:8080/"
        },
        "id": "GgR7o99gDob-",
        "outputId": "3e6dd0d5-42f2-4a5d-e832-897267f48dba"
      },
      "execution_count": 5,
      "outputs": [
        {
          "output_type": "stream",
          "name": "stdout",
          "text": [
            "1.9835235375094544\n",
            "1.9835235375094546\n"
          ]
        }
      ]
    },
    {
      "cell_type": "markdown",
      "source": [
        "Sometimes we need to know the approximated cumulative integral in which case we will use the *cumtrapz* function which takes the same input arguments as trapz. \n",
        "\n",
        "Let's use it to approximate the cumulative integral of f(x) = sin(x) from 0 to $\\pi$ with a discretization step of 0.01. "
      ],
      "metadata": {
        "id": "SoJe-_8UETWE"
      }
    },
    {
      "cell_type": "code",
      "source": [
        "from scipy.integrate import cumtrapz\n",
        "import matplotlib.pyplot as plt\n",
        "\n",
        "%matplotlib inline\n",
        "plt.style.use(\"seaborn-poster\")\n",
        "\n",
        "x = np.arange(0, np.pi, 0.01)\n",
        "F_exact = -np.cos(x)\n",
        "F_approx = cumtrapz(np.sin(x), x)\n",
        "\n",
        "plt.figure(figsize = (10,6))\n",
        "plt.plot(x, F_exact)\n",
        "plt.plot(x[1::], F_approx)\n",
        "plt.grid()\n",
        "plt.tight_layout()\n",
        "plt.title('')\n",
        "plt.xlabel('x')\n",
        "plt.ylabel('f(x)')\n",
        "plt.legend(['Exact with Offset', 'Approximate'])\n",
        "plt.show()"
      ],
      "metadata": {
        "colab": {
          "base_uri": "https://localhost:8080/",
          "height": 517
        },
        "id": "FHyp2bdRFKBC",
        "outputId": "c033b233-5cde-4118-859b-1a45fec889e9"
      },
      "execution_count": 13,
      "outputs": [
        {
          "output_type": "stream",
          "name": "stderr",
          "text": [
            "<ipython-input-13-a77950cb8dd8>:5: MatplotlibDeprecationWarning: The seaborn styles shipped by Matplotlib are deprecated since 3.6, as they no longer correspond to the styles shipped by seaborn. However, they will remain available as 'seaborn-v0_8-<style>'. Alternatively, directly use the seaborn API instead.\n",
            "  plt.style.use(\"seaborn-poster\")\n"
          ]
        },
        {
          "output_type": "display_data",
          "data": {
            "text/plain": [
              "<Figure size 720x432 with 1 Axes>"
            ],
            "image/png": "[encoded data removed]"
          },
          "metadata": {
            "needs_background": "light"
          }
        }
      ]
    },
    {
      "cell_type": "markdown",
      "source": [
        "And finally, the *quad(f,a,b)* function uses a different numerical differentiation scheme to evaluate the integral of f from a to b. This gives the correct, exact answer.  \n",
        "\n",
        "Let's use it to evaluate $\\int_0^{\\pi}sin(x)dx$ "
      ],
      "metadata": {
        "id": "HLwnbUswGUBv"
      }
    },
    {
      "cell_type": "code",
      "source": [
        "from scipy.integrate import quad\n",
        "I_quad, est_err_quad = quad(np.sin, 0, np.pi)\n",
        "print(I_quad)\n",
        "err_quad = 2 - I_quad\n",
        "print(est_err_quad, err_quad)"
      ],
      "metadata": {
        "colab": {
          "base_uri": "https://localhost:8080/"
        },
        "id": "r4PYImjOGnLZ",
        "outputId": "fe6b8770-afa3-40fc-88cf-e9cef0ece26c"
      },
      "execution_count": 14,
      "outputs": [
        {
          "output_type": "stream",
          "name": "stdout",
          "text": [
            "2.0\n",
            "2.220446049250313e-14 0.0\n"
          ]
        }
      ]
    }
  ]
}