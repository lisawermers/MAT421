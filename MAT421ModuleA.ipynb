{
  "nbformat": 4,
  "nbformat_minor": 0,
  "metadata": {
    "colab": {
      "provenance": []
    },
    "kernelspec": {
      "name": "python3",
      "display_name": "Python 3"
    },
    "language_info": {
      "name": "python"
    }
  },
  "cells": [
    {
      "cell_type": "markdown",
      "source": [
        "#Base-N and Binary"
      ],
      "metadata": {
        "id": "bz9zYx6W_Rrc"
      }
    },
    {
      "cell_type": "markdown",
      "source": [
        "We typically look at numbers in base-10 (and use digits 0-9) which looks like this:"
      ],
      "metadata": {
        "id": "bL7H5TPwoOir"
      }
    },
    {
      "cell_type": "code",
      "source": [
        "132.8 == 1*(10**2) + 3*(10**1) + 2*(10**0) + 8*(10**-1)"
      ],
      "metadata": {
        "colab": {
          "base_uri": "https://localhost:8080/"
        },
        "id": "sFu7rH8NoVXB",
        "outputId": "47614cdd-99f4-44b4-f8d7-67d254ae00ca"
      },
      "execution_count": 3,
      "outputs": [
        {
          "output_type": "execute_result",
          "data": {
            "text/plain": [
              "True"
            ]
          },
          "metadata": {},
          "execution_count": 3
        }
      ]
    },
    {
      "cell_type": "markdown",
      "source": [
        "And sometimes we'll look at numbers in binary form (base-2 which uses digits 0-1) and looks like this:"
      ],
      "metadata": {
        "id": "GSxtTDh8otZU"
      }
    },
    {
      "cell_type": "code",
      "source": [
        "13 == 1*(2**3) + 1*(2**2) + 0*(2**1) + 1*(2**0)\n",
        "#so 13(base 10) is the same thing as 1101(base 2)\n",
        "print(bin(13))"
      ],
      "metadata": {
        "colab": {
          "base_uri": "https://localhost:8080/"
        },
        "id": "dYW1kDD_ozDI",
        "outputId": "b2a6ceca-1186-40c9-bf82-e2e911b0a5f9"
      },
      "execution_count": 6,
      "outputs": [
        {
          "output_type": "stream",
          "name": "stdout",
          "text": [
            "0b1101\n"
          ]
        }
      ]
    },
    {
      "cell_type": "markdown",
      "source": [
        "No matter the base though, it's fairly simple to convert between them. "
      ],
      "metadata": {
        "id": "uTGiImbypsvP"
      }
    },
    {
      "cell_type": "code",
      "source": [
        "#45(base 10) == 101101(base 2)\n",
        "45 == 1*(2**5) + 0*(2**4) + 1*(2**3) + 1*(2**2) + 0*(2**1) + 1*(2**0)     \n",
        "\n",
        "#121(base 3) == 16(base 10)\n",
        "1*(3**2) + 2*(3**1) + 1*(3**0) == 1*(10**1) + 6*(10**0)\n"
      ],
      "metadata": {
        "colab": {
          "base_uri": "https://localhost:8080/"
        },
        "id": "6elq80_9pzGE",
        "outputId": "39b801b0-9be2-47bf-ad64-5d745ba54bb5"
      },
      "execution_count": 10,
      "outputs": [
        {
          "output_type": "execute_result",
          "data": {
            "text/plain": [
              "True"
            ]
          },
          "metadata": {},
          "execution_count": 10
        }
      ]
    },
    {
      "cell_type": "markdown",
      "source": [
        "We can also add and multiply in binary exacly the same way we do in base 10. We will just only use 0 and 1 as our digits. "
      ],
      "metadata": {
        "id": "sHKFrNlirQrj"
      }
    },
    {
      "cell_type": "code",
      "source": [
        "#100101 + 10001 == 110110\n",
        "1*(2**5) + 0*(2**4) + 0*(2**3) + 1*(2**2) + 0*(2**1) + 1*(2**0) + 1*(2**4) + 0*(2**3) + 0*(2**2) + 0*(2**1) + 1*(2**0) == 1*(2**5) + 1*(2**4) + 0*(2**3) + 1*(2**2) + 1*(2**1) + 0*(2**0)\n",
        "\n",
        "#And we can double check our answers in base-10 if we want:\n",
        "1*(2**5) + 0*(2**4) + 0*(2**3) + 1*(2**2) + 0*(2**1) + 1*(2**0) == 37\n",
        "1*(2**4) + 0*(2**3) + 0*(2**2) + 0*(2**1) + 1*(2**0) == 17\n",
        "37 + 17 == 54\n",
        "54 == 1*(2**5) + 1*(2**4) + 0*(2**3) + 1*(2**2) + 1*(2**1) + 0*(2**0)\n",
        "\n",
        "#100101 * 10001 == 1001110101\n",
        "37 * 17 == 629\n",
        "print(bin(629))"
      ],
      "metadata": {
        "colab": {
          "base_uri": "https://localhost:8080/"
        },
        "id": "9Vf1fOPsseE0",
        "outputId": "2d09dd83-6dd3-4edc-eb97-ba08b07b3f21"
      },
      "execution_count": 17,
      "outputs": [
        {
          "output_type": "stream",
          "name": "stdout",
          "text": [
            "0b1001110101\n"
          ]
        }
      ]
    },
    {
      "cell_type": "markdown",
      "source": [
        "#Floating Point Numbers"
      ],
      "metadata": {
        "id": "9h3EHSt4th-w"
      }
    },
    {
      "cell_type": "markdown",
      "source": [
        "Floats have 3 important parts: \n",
        "- The sign indicator (s) which tells us whether a number is positive or negative\n",
        "- The characteristic or exponent (e) which is the power of 2\n",
        "- The fraction (f) which is the coefficient of the exponent\n",
        "\n",
        "Floats are represented as: \n",
        "n = (-1)^s * 2^(e-1023) * (1+f)\n",
        "\n",
        "Floating numbers are a great way to handle and represent very large and very small numbers. \n",
        "\n",
        "There are gaps between numbers that will increase as the numbers increase. If a number falls inside of the gap, python will assign it the number closest to it. "
      ],
      "metadata": {
        "id": "rvGrUPONtlsQ"
      }
    },
    {
      "cell_type": "code",
      "source": [
        "import sys\n",
        "sys.float_info\n",
        "import numpy as np\n",
        "\n",
        "np.spacing(1e6) #this will find the gap when the number is 1e6\n",
        "\n",
        "#We can see how python will assign the closest value by looking at the following equation. It will return true because the value is within the gap and closest to 1e6\n",
        "1e6 == (1e6 + np.spacing(1e6)/3)"
      ],
      "metadata": {
        "colab": {
          "base_uri": "https://localhost:8080/"
        },
        "id": "4kCCesU7y5SP",
        "outputId": "5e1e1a0d-004f-4a6d-cb8f-a0985a4a8440"
      },
      "execution_count": 20,
      "outputs": [
        {
          "output_type": "execute_result",
          "data": {
            "text/plain": [
              "True"
            ]
          },
          "metadata": {},
          "execution_count": 20
        }
      ]
    },
    {
      "cell_type": "markdown",
      "source": [
        "There are a few special cases when using floating point numbers, specifically when e=0 and when e=2047\n",
        "\n",
        "When e=0, the leading 1 in the fraction becomes a 0 and this is called a subnormal number. \n",
        "\n",
        "When e=2047 and f is nonzero, we get an undefined number. \n",
        "\n",
        "When e=2047, f=0, and s=0 we get positive infinity.\n",
        "\n",
        "And when e=2-47, f=0, and s=1 we get negative infinity."
      ],
      "metadata": {
        "id": "9AL94tP8JjwD"
      }
    },
    {
      "cell_type": "code",
      "source": [
        "#We can get the largest number possible with floats with the following equation:\n",
        "\n",
        "largest = (2**(2046-1023))*((1 + sum(0.5**np.arange(1,53))))\n",
        "print(largest)"
      ],
      "metadata": {
        "colab": {
          "base_uri": "https://localhost:8080/"
        },
        "id": "16-PWzFlKO22",
        "outputId": "bb5db444-8e47-4ec2-8ad1-fec5617db154"
      },
      "execution_count": 23,
      "outputs": [
        {
          "output_type": "stream",
          "name": "stdout",
          "text": [
            "1.7976931348623157e+308\n"
          ]
        }
      ]
    },
    {
      "cell_type": "code",
      "source": [
        "#We can easily double check our answer\n",
        "sys.float_info.max"
      ],
      "metadata": {
        "colab": {
          "base_uri": "https://localhost:8080/"
        },
        "id": "oKO4jhnNKzlZ",
        "outputId": "f9ac6896-faa1-4b9a-e0c2-229c520dc581"
      },
      "execution_count": 26,
      "outputs": [
        {
          "output_type": "execute_result",
          "data": {
            "text/plain": [
              "1.7976931348623157e+308"
            ]
          },
          "metadata": {},
          "execution_count": 26
        }
      ]
    },
    {
      "cell_type": "code",
      "source": [
        "#Similarly, we get the smallest number possible with floats with this:\n",
        "smallest = (2**(1-1023))*(1+0)\n",
        "print(smallest)"
      ],
      "metadata": {
        "colab": {
          "base_uri": "https://localhost:8080/"
        },
        "id": "QCxIxliFKhVG",
        "outputId": "0e912756-1ecd-44b5-e039-e4a61f37d6ef"
      },
      "execution_count": 24,
      "outputs": [
        {
          "output_type": "stream",
          "name": "stdout",
          "text": [
            "2.2250738585072014e-308\n"
          ]
        }
      ]
    },
    {
      "cell_type": "code",
      "source": [
        "#We can double check our answer again\n",
        "sys.float_info.min"
      ],
      "metadata": {
        "colab": {
          "base_uri": "https://localhost:8080/"
        },
        "id": "rmDSm6BsK5sf",
        "outputId": "0adf9363-7e3b-42b4-e734-d9860c104200"
      },
      "execution_count": 27,
      "outputs": [
        {
          "output_type": "execute_result",
          "data": {
            "text/plain": [
              "2.2250738585072014e-308"
            ]
          },
          "metadata": {},
          "execution_count": 27
        }
      ]
    },
    {
      "cell_type": "markdown",
      "source": [
        "Numbers bigger than the maximum are considered overflow and smaller than the minimum are considered underflow. "
      ],
      "metadata": {
        "id": "JHNdjC4nLCgn"
      }
    },
    {
      "cell_type": "code",
      "source": [
        "sys.float_info.max + sys.float_info.max #for example, this results in overflow."
      ],
      "metadata": {
        "colab": {
          "base_uri": "https://localhost:8080/"
        },
        "id": "bakgZYd7LTqi",
        "outputId": "c280dfc6-5398-4762-b651-0ccea69b78c2"
      },
      "execution_count": 28,
      "outputs": [
        {
          "output_type": "execute_result",
          "data": {
            "text/plain": [
              "inf"
            ]
          },
          "metadata": {},
          "execution_count": 28
        }
      ]
    },
    {
      "cell_type": "markdown",
      "source": [
        "#Round Off Errors"
      ],
      "metadata": {
        "id": "Sttz0dsuLg9j"
      }
    },
    {
      "cell_type": "markdown",
      "source": [
        "There are 3 common types of errors: \n",
        "- Round-Off Error: Difference between the real number and an approximation. \n",
        "- Truncation Error: This is made by truncating an infinite sum and approximating it by a finite sum.\n",
        "- Representation Error: A common round-off error with floating point numbers. \n",
        "\n",
        "Since floats are approximations, they result in a lot of small errors. "
      ],
      "metadata": {
        "id": "ZcP0jpTNLyhF"
      }
    },
    {
      "cell_type": "code",
      "source": [
        "#When plugged into a regular calculator, 8.3 - 3.726 would result in 4.574\n",
        "\n",
        "#But when we put it in python, we can see the error clearly. \n",
        "\n",
        "8.3 - 3.726 "
      ],
      "metadata": {
        "colab": {
          "base_uri": "https://localhost:8080/"
        },
        "id": "3vmVIsfSLkMP",
        "outputId": "b7805bcf-5090-46e0-af1a-428765a67f14"
      },
      "execution_count": 37,
      "outputs": [
        {
          "output_type": "execute_result",
          "data": {
            "text/plain": [
              "4.574000000000001"
            ]
          },
          "metadata": {},
          "execution_count": 37
        }
      ]
    },
    {
      "cell_type": "code",
      "source": [
        "8.3 - 3.726 == 4.574 #And this will return false because of the error."
      ],
      "metadata": {
        "colab": {
          "base_uri": "https://localhost:8080/"
        },
        "id": "9bhgqGPnNIvW",
        "outputId": "6b28cc9c-6d63-4861-dee4-d77588cfcb86"
      },
      "execution_count": 38,
      "outputs": [
        {
          "output_type": "execute_result",
          "data": {
            "text/plain": [
              "False"
            ]
          },
          "metadata": {},
          "execution_count": 38
        }
      ]
    },
    {
      "cell_type": "markdown",
      "source": [
        "However we can use the round() function to account for these errors"
      ],
      "metadata": {
        "id": "us79e9w5PZMc"
      }
    },
    {
      "cell_type": "code",
      "source": [
        "round(8.3-3.726,5) == round(4.574,5) #This now returns true."
      ],
      "metadata": {
        "colab": {
          "base_uri": "https://localhost:8080/"
        },
        "id": "jqMhRa2lPcO1",
        "outputId": "cb146902-b1b5-44c6-a38a-b2c78de92736"
      },
      "execution_count": 39,
      "outputs": [
        {
          "output_type": "execute_result",
          "data": {
            "text/plain": [
              "True"
            ]
          },
          "metadata": {},
          "execution_count": 39
        }
      ]
    },
    {
      "cell_type": "markdown",
      "source": [
        "When we do multiple calculations we run the risk of accumulating errors. By only adding then subtracting 1/3 once, the error is nonexistent. "
      ],
      "metadata": {
        "id": "ZuzqFYUxP3Vm"
      }
    },
    {
      "cell_type": "code",
      "source": [
        "1 + 1/3 - 1/3"
      ],
      "metadata": {
        "colab": {
          "base_uri": "https://localhost:8080/"
        },
        "id": "pNgayT9YPuul",
        "outputId": "3dc97cbb-2a3c-49b5-d5c8-a7eadc74cea3"
      },
      "execution_count": 41,
      "outputs": [
        {
          "output_type": "execute_result",
          "data": {
            "text/plain": [
              "1.0"
            ]
          },
          "metadata": {},
          "execution_count": 41
        }
      ]
    },
    {
      "cell_type": "markdown",
      "source": [
        "But if we run the same calculation 100 times, we see the error start to add up. "
      ],
      "metadata": {
        "id": "XptI17t8QA9k"
      }
    },
    {
      "cell_type": "code",
      "source": [
        "def add_and_subtract(iterations):\n",
        "  answer = 1\n",
        "\n",
        "  for i in range(iterations):\n",
        "    answer += 1/3\n",
        "\n",
        "  for i in range(iterations):\n",
        "    answer -= 1/3\n",
        "\n",
        "  return answer\n",
        "\n",
        "add_and_subtract(100)"
      ],
      "metadata": {
        "colab": {
          "base_uri": "https://localhost:8080/"
        },
        "id": "uORba8CtQFAx",
        "outputId": "e03b3d9c-d84e-41e8-bb35-fccb02be7f6d"
      },
      "execution_count": 45,
      "outputs": [
        {
          "output_type": "execute_result",
          "data": {
            "text/plain": [
              "1.0000000000000002"
            ]
          },
          "metadata": {},
          "execution_count": 45
        }
      ]
    },
    {
      "cell_type": "markdown",
      "source": [
        "If we run the same process even more times, the error gets even bigger"
      ],
      "metadata": {
        "id": "VkFkL4cxQ3lF"
      }
    },
    {
      "cell_type": "code",
      "source": [
        "add_and_subtract(10000)"
      ],
      "metadata": {
        "colab": {
          "base_uri": "https://localhost:8080/"
        },
        "id": "ah31Suj1Q6dU",
        "outputId": "11526c60-c177-4dc8-bbec-d51d0170fdba"
      },
      "execution_count": 46,
      "outputs": [
        {
          "output_type": "execute_result",
          "data": {
            "text/plain": [
              "1.0000000000001166"
            ]
          },
          "metadata": {},
          "execution_count": 46
        }
      ]
    }
  ]
}