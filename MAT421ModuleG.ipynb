{
  "nbformat": 4,
  "nbformat_minor": 0,
  "metadata": {
    "colab": {
      "provenance": [],
      "authorship_tag": "ABX9TyNPjWnthYlkmaTaMlC+Xb15",
      "include_colab_link": true
    },
    "kernelspec": {
      "name": "python3",
      "display_name": "Python 3"
    },
    "language_info": {
      "name": "python"
    }
  },
  "cells": [
    {
      "cell_type": "markdown",
      "metadata": {
        "id": "view-in-github",
        "colab_type": "text"
      },
      "source": [
        "<a href=\"https://colab.research.google.com/github/lisawermers/MAT421/blob/main/MAT421ModuleG.ipynb\" target=\"_parent\"><img src=\"https://colab.research.google.com/assets/colab-badge.svg\" alt=\"Open In Colab\"/></a>"
      ]
    },
    {
      "cell_type": "markdown",
      "source": [
        "#Module G\n",
        "**21.1: Numerical Integration Problem Statement**\n",
        "\n",
        "Given a function f(x) we will sometimes try to approximate the integral of it over a given interval [a,b].\n",
        "\n",
        "We discretize the interval consisting of n+1 points with the given spacing: \n",
        "\n",
        "$h=\\frac{b-a}{n}$\n",
        "\n",
        "with any given point being $x_i$ and $x_0=a$ and $x_n=b$\n",
        "\n",
        "We assume that the function can be computed for any of the grid points $x_i$ and we have a subinterval $[x_i,x_{i+1}]$\n",
        "\n",
        "Now let's look at some common entry level mathods for calculating $\\int_a^bf(x)dx$"
      ],
      "metadata": {
        "id": "cMqQaoUgV8IO"
      }
    },
    {
      "cell_type": "markdown",
      "source": [
        "**21.2 Riemann Integral**\n",
        "\n",
        "The easiest way to approximate an integral is by summing the area of rectangles defined for each subinterval. The width of each rectangle is $x_{i+1}-x_1=h$ and the height is defined by the value of the function at some x in the subinterval. Commonly, the left or right endpoints on the subinterval are chosen. \n",
        "\n",
        "The Midpoint Rule uses the value of the midpoint between $x_1$ and $x_{i+1}$ denoted by: \n",
        "$y_i=\\frac{x_{i+1}+x_i}{2}$\n",
        "\n",
        "Now let's do an example and approximate $\\int_0^\\pi(sin(x))dx$ using left, right, and midpoint rules. "
      ],
      "metadata": {
        "id": "ztTTlW8yYMfz"
      }
    },
    {
      "cell_type": "code",
      "execution_count": 2,
      "metadata": {
        "colab": {
          "base_uri": "https://localhost:8080/"
        },
        "id": "INL7HSrcV460",
        "outputId": "9d4ace64-6fe8-439c-a498-d009e0a1230c"
      },
      "outputs": [
        {
          "output_type": "stream",
          "name": "stdout",
          "text": [
            "1.9835235375094546\n",
            "0.01647646249054535\n",
            "1.9835235375094546\n",
            "0.01647646249054535\n",
            "2.0082484079079745\n",
            "-0.008248407907974542\n"
          ]
        }
      ],
      "source": [
        "import numpy as np\n",
        "\n",
        "a=0\n",
        "b=np.pi\n",
        "n=11\n",
        "h=(b-a)/(n-1)\n",
        "x=np.linspace(a,b,n)\n",
        "f=np.sin(x)\n",
        "\n",
        "I_riemannL = h*sum(f[:n-1])\n",
        "err_riemannL = 2-I_riemannL\n",
        "\n",
        "I_riemannR = h*sum(f[1::])\n",
        "err_riemannR = 2-I_riemannR\n",
        "\n",
        "I_mid = h*sum(np.sin((x[:n-1]+x[1:])/2))\n",
        "err_mid = 2-I_mid\n",
        "\n",
        "print(I_riemannL)\n",
        "print(err_riemannL)\n",
        "\n",
        "print(I_riemannR)\n",
        "print(err_riemannR)\n",
        "\n",
        "print(I_mid)\n",
        "print(err_mid)"
      ]
    },
    {
      "cell_type": "markdown",
      "source": [
        "**21.3: Trapezoid Rule**\n",
        "\n",
        "Similar to the left and right riemann integrals, the trapezoid rule sums the areas of trapezoids in each subinterval using these points as the corners: \n",
        "\n",
        "$(x_i,0), (x_{i+1},0), (x_i,f(x_i)), (x_{i+1},f(x_{i+1}))$\n",
        "\n",
        "Let's use this rule to approximate the same integral as before:"
      ],
      "metadata": {
        "id": "eyZG4TSsallR"
      }
    },
    {
      "cell_type": "code",
      "source": [
        "import numpy as np\n",
        "\n",
        "a = 0 \n",
        "b = np.pi\n",
        "n = 11\n",
        "h = (b - a)/(n - 1)\n",
        "x = np.linspace(a,b,n)\n",
        "f = np.sin(x)\n",
        "\n",
        "I_trap = (h/2)*(f[0] + 2*sum(f[1:n-1]) + f[n-1])\n",
        "err_trap = 0 - I_trap\n",
        "\n",
        "print(I_trap)\n",
        "print(err_trap)"
      ],
      "metadata": {
        "colab": {
          "base_uri": "https://localhost:8080/"
        },
        "id": "1nyyujBaavbd",
        "outputId": "d1bb09dc-0e68-4bef-cfc2-2d00d6bb1937"
      },
      "execution_count": 5,
      "outputs": [
        {
          "output_type": "stream",
          "name": "stdout",
          "text": [
            "1.9835235375094546\n",
            "-1.9835235375094546\n"
          ]
        }
      ]
    }
  ]
}