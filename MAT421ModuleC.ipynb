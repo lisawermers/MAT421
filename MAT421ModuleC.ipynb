{
  "nbformat": 4,
  "nbformat_minor": 0,
  "metadata": {
    "colab": {
      "provenance": [],
      "authorship_tag": "ABX9TyO6c0PmvYJHau3kEc0+2mc2",
      "include_colab_link": true
    },
    "kernelspec": {
      "name": "python3",
      "display_name": "Python 3"
    },
    "language_info": {
      "name": "python"
    }
  },
  "cells": [
    {
      "cell_type": "markdown",
      "metadata": {
        "id": "view-in-github",
        "colab_type": "text"
      },
      "source": [
        "<a href=\"https://colab.research.google.com/github/lisawermers/MAT421/blob/main/MAT421ModuleC.ipynb\" target=\"_parent\"><img src=\"https://colab.research.google.com/assets/colab-badge.svg\" alt=\"Open In Colab\"/></a>"
      ]
    },
    {
      "cell_type": "markdown",
      "source": [
        "#Chapter 19\n",
        "\n",
        "19.1, 19.2, 19.3, 19.4, 19.5\n",
        "\n",
        "19.1: Root Finding Problem Statement\n",
        "\n",
        "The root of a function is also called a zero and it's an xr s.t. f(xr) = 0\n",
        "\n",
        "We can use fsolve to compute the root of f(x) = cos(x) - x near -5. And then we can verify that the solution is a root. "
      ],
      "metadata": {
        "id": "tMoIGZ8EywdY"
      }
    },
    {
      "cell_type": "code",
      "execution_count": 2,
      "metadata": {
        "colab": {
          "base_uri": "https://localhost:8080/"
        },
        "id": "KkqBN_rLyc__",
        "outputId": "b28e89f1-1e93-4fdb-dadf-3090b052e707"
      },
      "outputs": [
        {
          "output_type": "stream",
          "name": "stdout",
          "text": [
            "r = [0.73908513]\n",
            "result = [0.]\n"
          ]
        }
      ],
      "source": [
        "import numpy as np\n",
        "from scipy import optimize \n",
        "\n",
        "f = lambda x: np.cos(x) - x\n",
        "answer = optimize.fsolve(f, -5)\n",
        "print(\"r =\", answer)\n",
        "\n",
        "result = f(answer)\n",
        "print(\"result =\", result)"
      ]
    },
    {
      "cell_type": "markdown",
      "source": [
        "19.2, 19.3: Tolerance and Bisection Method\n",
        "\n",
        "There is a certain level of error that is acceptable in engineering applications and it's known as tolerance. The bisection method uses the Intermediate Value Theorem iteratively to find the roots. \n",
        "\n",
        "In the following problem, we'll show an example of how the bisection method is used to approximate tolerance. \n",
        "\n",
        "Program a function that approximates a root r of f, bounded by a and b to within |f(a+b/2)| < tol. Then consider the root of x^2 - 6. Starting at a = 0 and b = 4, use the created function to approximate the sqrt(4) to a tolerance of |f(x)| < 0.1 and |f(x)| < 0.01. Verify the results are close to a root by plugging the root back into the equation."
      ],
      "metadata": {
        "id": "47ZLZMU1zXzn"
      }
    },
    {
      "cell_type": "code",
      "source": [
        "import numpy as np\n",
        "\n",
        "def my_bisection(f, a, b, tol):\n",
        "  if np.sign(f(a)) == np.sign(f(b)):\n",
        "    raise Exception(\n",
        "        \"The scalars a and b do not bound a root\")\n",
        "    \n",
        "  m = (a + b)/2\n",
        "\n",
        "  if np.abs(f(m)) < tol:\n",
        "    return m\n",
        "  elif np.sign(f(a)) == np.sign(f(m)):\n",
        "    return my_bisection(f, m, b, tol)\n",
        "  elif np.sign(f(b)) == np.sign(f(m)):\n",
        "    return my_bisection(f, a, m, tol)"
      ],
      "metadata": {
        "id": "sSLqeglCz7-u"
      },
      "execution_count": 3,
      "outputs": []
    },
    {
      "cell_type": "code",
      "source": [
        "f = lambda x : x**2 - 6\n",
        "r1 = my_bisection(f, 0, 4, 0.1)\n",
        "print(\"r1 =\", r1)\n",
        "r01 = my_bisection(f, 0, 4, 0.01)\n",
        "print(\"r01 =\", r01)\n",
        "\n",
        "print(\"f(r1) =\", f(r1))\n",
        "print(\"f(r2) =\", f(r01))"
      ],
      "metadata": {
        "colab": {
          "base_uri": "https://localhost:8080/"
        },
        "id": "F3TGxGP_0BCt",
        "outputId": "dd788bb5-99ea-45ed-c635-0ee2d245855b"
      },
      "execution_count": 5,
      "outputs": [
        {
          "output_type": "stream",
          "name": "stdout",
          "text": [
            "r1 = 2.4375\n",
            "r01 = 2.44921875\n",
            "f(r1) = -0.05859375\n",
            "f(r2) = -0.0013275146484375\n"
          ]
        }
      ]
    },
    {
      "cell_type": "markdown",
      "source": [
        "19.4: Newton-Raphson Method\n",
        "\n",
        "This method iterates Newton steps x0 until the error is less than the tolerance. \n",
        "\n",
        "Let's look at an example:\n",
        "\n",
        "Write a function where the output is the output is an estimation of the root f, f is a function object f(x), df is a function object to f'(x), x0 is an initial guess, and tol is the error tolerance. The error measurement should be |f(x)|. Then use it to compute sqrt(6) to within tolerance of 1e-6 at x0 = 2.5."
      ],
      "metadata": {
        "id": "ylWsqRFA0NYj"
      }
    },
    {
      "cell_type": "code",
      "source": [
        "f_prime = lambda x: 2*x\n",
        "def my_newton(f, df, x0, tol):\n",
        "  if abs(f(x0)) < tol:\n",
        "    return x0\n",
        "  else:\n",
        "    return my_newton(f, df, x0 - f(x0)/df(x0), tol)"
      ],
      "metadata": {
        "id": "LjtKiutj0aUB"
      },
      "execution_count": 10,
      "outputs": []
    },
    {
      "cell_type": "code",
      "source": [
        "estimate = my_newton(f, f_prime, 2.5, 1e-6)\n",
        "print(\"estimate =\", estimate)\n",
        "print(\"sqrt(6)\", np.sqrt(6))"
      ],
      "metadata": {
        "colab": {
          "base_uri": "https://localhost:8080/"
        },
        "id": "A-6nuClH0cPt",
        "outputId": "1ff193e8-de3c-4c0c-eb4f-2e417ed9498f"
      },
      "execution_count": 13,
      "outputs": [
        {
          "output_type": "stream",
          "name": "stdout",
          "text": [
            "estimate = 2.4494897959183675\n",
            "sqrt(6) 2.449489742783178\n"
          ]
        }
      ]
    },
    {
      "cell_type": "markdown",
      "source": [
        "19.5: Root Finding in Python\n",
        "\n",
        "Compute the root of x^2 - 11x + 30 using fsolve."
      ],
      "metadata": {
        "id": "xWN_TqcJ009l"
      }
    },
    {
      "cell_type": "code",
      "source": [
        "from scipy.optimize import fsolve\n",
        "f = lambda x : x**2-11*x+30\n",
        "fsolve(f, [4,7])"
      ],
      "metadata": {
        "colab": {
          "base_uri": "https://localhost:8080/"
        },
        "id": "i4m-Pfii05ax",
        "outputId": "d65fe99f-a8b4-46a4-bb9b-5341d6cc8544"
      },
      "execution_count": 21,
      "outputs": [
        {
          "output_type": "execute_result",
          "data": {
            "text/plain": [
              "array([5., 6.])"
            ]
          },
          "metadata": {},
          "execution_count": 21
        }
      ]
    }
  ]
}